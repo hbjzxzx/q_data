{
 "cells": [
  {
   "cell_type": "code",
   "execution_count": 2,
   "metadata": {},
   "outputs": [],
   "source": [
    "from prefect import flow, task, variables, serve \n",
    "from prefect.filesystems import RemoteFileSystem\n",
    "import pandas as pd\n",
    "import requests\n",
    "import datetime\n",
    "import io\n",
    "from typing import Optional\n",
    "\n",
    "import sqlalchemy as db\n",
    "import yfinance as yf"
   ]
  },
  {
   "cell_type": "code",
   "execution_count": 7,
   "metadata": {},
   "outputs": [],
   "source": [
    "engine = db.create_engine(await variables.get('q_data_db_connect_url'))\n",
    "conn = engine.connect()"
   ]
  },
  {
   "cell_type": "code",
   "execution_count": null,
   "metadata": {},
   "outputs": [],
   "source": [
    "r = conn.execute(db.text(\"\"\"\n",
    "    SELECT symbol, exchange \n",
    "    FROM stock_meta\n",
    "    LIMIT 10;\n",
    "             \"\"\"))"
   ]
  },
  {
   "cell_type": "code",
   "execution_count": null,
   "metadata": {},
   "outputs": [],
   "source": [
    "tickers = yf.Ticker('aapl')"
   ]
  },
  {
   "cell_type": "code",
   "execution_count": null,
   "metadata": {},
   "outputs": [],
   "source": [
    "tickers.history(start=(datetime.date.today() - datetime.timedelta(days=3.0)), end=(datetime.date.today() - datetime.timedelta(days=2.0)), interval='1m', prepost=True)"
   ]
  },
  {
   "cell_type": "code",
   "execution_count": null,
   "metadata": {},
   "outputs": [],
   "source": [
    "today_str = datetime.date.today().strftime('%Y-%m-%d')\n",
    "next_str = (datetime.date.today() - datetime.timedelta(days=2.0)).strftime('%Y-%m-%d')\n",
    "next_str_1 = (datetime.date.today() - datetime.timedelta(days=1.0)).strftime('%Y-%m-%d')"
   ]
  },
  {
   "cell_type": "code",
   "execution_count": null,
   "metadata": {},
   "outputs": [],
   "source": [
    "info = tickers.info"
   ]
  },
  {
   "cell_type": "code",
   "execution_count": null,
   "metadata": {},
   "outputs": [],
   "source": [
    "import pandas_market_calendars as mcal\n",
    "nyse = mcal.get_calendar('NYSE')"
   ]
  },
  {
   "cell_type": "code",
   "execution_count": null,
   "metadata": {},
   "outputs": [],
   "source": [
    "nyse = mcal.get_calendar('NASDAQ')"
   ]
  },
  {
   "cell_type": "code",
   "execution_count": null,
   "metadata": {},
   "outputs": [],
   "source": [
    "nyse.valid_days(datetime.date.today() - datetime.timedelta(days=2.0), datetime.date.today() - datetime.timedelta(days=1.0)).size"
   ]
  },
  {
   "cell_type": "code",
   "execution_count": null,
   "metadata": {},
   "outputs": [],
   "source": [
    "datetime.date.today().weekday()"
   ]
  },
  {
   "cell_type": "code",
   "execution_count": null,
   "metadata": {},
   "outputs": [],
   "source": [
    "pd.DataFrame.from_dict(info, orient='index')"
   ]
  },
  {
   "cell_type": "code",
   "execution_count": null,
   "metadata": {},
   "outputs": [],
   "source": [
    "del info['companyOfficers']"
   ]
  },
  {
   "cell_type": "code",
   "execution_count": null,
   "metadata": {},
   "outputs": [],
   "source": [
    "info_df = pd.DataFrame(info, index=[0])"
   ]
  },
  {
   "cell_type": "code",
   "execution_count": null,
   "metadata": {},
   "outputs": [],
   "source": []
  },
  {
   "cell_type": "code",
   "execution_count": null,
   "metadata": {},
   "outputs": [],
   "source": [
    "tickers.options"
   ]
  },
  {
   "cell_type": "code",
   "execution_count": null,
   "metadata": {},
   "outputs": [],
   "source": [
    "opt = tickers.option_chain(date='2023-12-22')"
   ]
  },
  {
   "cell_type": "code",
   "execution_count": null,
   "metadata": {},
   "outputs": [],
   "source": [
    "opt.calls"
   ]
  },
  {
   "cell_type": "code",
   "execution_count": null,
   "metadata": {},
   "outputs": [],
   "source": [
    "opt.puts"
   ]
  },
  {
   "cell_type": "code",
   "execution_count": null,
   "metadata": {},
   "outputs": [],
   "source": [
    "r = conn.execute(db.text(\"\"\"\n",
    "    SELECT symbol, exchange\n",
    "    FROM stock_meta\n",
    "    LIMIT 10;\n",
    "    \"\"\"))"
   ]
  },
  {
   "cell_type": "code",
   "execution_count": null,
   "metadata": {},
   "outputs": [],
   "source": [
    "result = r.fetchall()"
   ]
  },
  {
   "cell_type": "code",
   "execution_count": null,
   "metadata": {},
   "outputs": [],
   "source": [
    "s, e = result[1]"
   ]
  },
  {
   "cell_type": "code",
   "execution_count": null,
   "metadata": {},
   "outputs": [],
   "source": [
    "e"
   ]
  },
  {
   "cell_type": "code",
   "execution_count": 5,
   "metadata": {},
   "outputs": [],
   "source": [
    "fs = await RemoteFileSystem.load(\"yfinance-daily\")"
   ]
  },
  {
   "cell_type": "code",
   "execution_count": null,
   "metadata": {},
   "outputs": [],
   "source": [
    "await fs.write_path('test', b'')"
   ]
  },
  {
   "cell_type": "code",
   "execution_count": 8,
   "metadata": {},
   "outputs": [],
   "source": [
    "r = conn.execute(db.text(\"\"\"\n",
    "   SELECT DISTINCT file_path, symbol, data_date FROM yf_bad_record\n",
    "   WHERE symbol='A' AND file_type='1m-stock' AND bucket_name='yfinance-daily' AND error_code=0\n",
    "    ORDER BY data_date;\n",
    "    \"\"\"))\n",
    "result = r.fetchall()\n",
    "result"
   ]
  },
  {
   "cell_type": "code",
   "execution_count": 18,
   "metadata": {},
   "outputs": [],
   "source": [
    "df = pd.read_csv(io.BytesIO(x), header=0)"
   ]
  },
  {
   "cell_type": "code",
   "execution_count": 19,
   "metadata": {},
   "outputs": [],
   "source": [
    "df.Datetime = pd.to_datetime(df.Datetime)"
   ]
  },
  {
   "cell_type": "code",
   "execution_count": 158,
   "metadata": {},
   "outputs": [
    {
     "name": "stdout",
     "output_type": "stream",
     "text": [
      "CREATE TABLE \"A\" (\n",
      "\"Datetime\" TIMESTAMP,\n",
      "  \"Open\" REAL,\n",
      "  \"High\" REAL,\n",
      "  \"Low\" REAL,\n",
      "  \"Close\" REAL,\n",
      "  \"Volume\" INTEGER,\n",
      "  \"Dividends\" REAL,\n",
      "  \"Stock Splits\" REAL\n",
      ")\n"
     ]
    }
   ],
   "source": [
    "print(pd.io.sql.get_schema(df, name='A'))"
   ]
  },
  {
   "cell_type": "code",
   "execution_count": 28,
   "metadata": {},
   "outputs": [],
   "source": [
    "create_table = \"\"\"\n",
    "CREATE TABLE IF NOT EXISTS A (\n",
    "  \"Datetime\" TIMESTAMP PRIMARY KEY,\n",
    "  \"Open\" REAL,\n",
    "  \"High\" REAL,\n",
    "  \"Low\" REAL,\n",
    "  \"Close\" REAL,\n",
    "  \"Volume\" INTEGER,\n",
    "  \"Dividends\" REAL,\n",
    "  \"Stock Splits\" REAL\n",
    "\"\"\"\n",
    "\n",
    "make_it_timescale = \"\"\"\n",
    "    SELECT create_hypertable('A', by_range('Datetime'));\n",
    "\"\"\""
   ]
  },
  {
   "cell_type": "code",
   "execution_count": 12,
   "metadata": {},
   "outputs": [
    {
     "data": {
      "text/plain": [
       "True"
      ]
     },
     "execution_count": 12,
     "metadata": {},
     "output_type": "execute_result"
    }
   ],
   "source": [
    "db.inspect(engine).has_table('yf_bad_record')"
   ]
  },
  {
   "cell_type": "code",
   "execution_count": 41,
   "metadata": {},
   "outputs": [],
   "source": [
    "def create_time_scale_table(table_name, conn: db.Connection):\n",
    "    create_table = db.text(f\"\"\"\n",
    "        CREATE TABLE IF NOT EXISTS {table_name} (\n",
    "            datetime TIMESTAMPTZ NOT NULL PRIMARY KEY,\n",
    "            open REAL,\n",
    "            high REAL,\n",
    "            low REAL,\n",
    "            close REAL,\n",
    "            volume INTEGER,\n",
    "            dividends REAL,\n",
    "            stock_splits REAL);\n",
    "            \"\"\")\n",
    "\n",
    "    make_it_timescale = db.text(f\"\"\"\n",
    "        SELECT create_hypertable('{table_name}', by_range('datetime'));\n",
    "        \"\"\")\n",
    "\n",
    "    conn.execute(create_table)\n",
    "    conn.execute(make_it_timescale)\n",
    "\n",
    "\n",
    "def inset_row(df: pd.DataFrame, table_name: str):\n",
    "    for index, item in df.iterrows(): \n",
    "        insert_stmt = db.text(f\"\"\"\n",
    "            INSERT INTO {table_name} (\n",
    "                \"datetime\",\n",
    "                \"open\",\n",
    "                \"high\",\n",
    "                \"low\",\n",
    "                \"close\",\n",
    "                \"volume\",\n",
    "                \"dividends\",\n",
    "                \"stock_splits\") VALUES (\n",
    "                '{item.Datetime}',\n",
    "                '{item.Open}',\n",
    "                '{item.High}',\n",
    "                '{item.Low}',\n",
    "                '{item.Close}',\n",
    "                '{item.Volume}',\n",
    "                '{item.Dividends}',\n",
    "                '{item[\"Stock Splits\"]}'\n",
    "            ) ON CONFLICT DO NOTHING\n",
    "        \"\"\")\n",
    "        conn.execute(insert_stmt)\n",
    "\n",
    "conn = engine.connect()\n",
    "if not db.inspect(engine).has_table('a'):\n",
    "    create_time_scale_table('a', conn)\n",
    "\n",
    "inset_row(df, 'a')\n",
    "conn.commit()\n",
    "conn.close()"
   ]
  },
  {
   "cell_type": "code",
   "execution_count": 171,
   "metadata": {},
   "outputs": [
    {
     "data": {
      "text/plain": [
       "0      0.0\n",
       "1      0.0\n",
       "2      0.0\n",
       "3      0.0\n",
       "4      0.0\n",
       "      ... \n",
       "406    0.0\n",
       "407    0.0\n",
       "408    0.0\n",
       "409    0.0\n",
       "410    0.0\n",
       "Name: Stock Splits, Length: 411, dtype: float64"
      ]
     },
     "execution_count": 171,
     "metadata": {},
     "output_type": "execute_result"
    }
   ],
   "source": [
    "df['Stock Splits']"
   ]
  },
  {
   "cell_type": "code",
   "execution_count": 24,
   "metadata": {},
   "outputs": [
    {
     "data": {
      "text/html": [
       "<div>\n",
       "<style scoped>\n",
       "    .dataframe tbody tr th:only-of-type {\n",
       "        vertical-align: middle;\n",
       "    }\n",
       "\n",
       "    .dataframe tbody tr th {\n",
       "        vertical-align: top;\n",
       "    }\n",
       "\n",
       "    .dataframe thead th {\n",
       "        text-align: right;\n",
       "    }\n",
       "</style>\n",
       "<table border=\"1\" class=\"dataframe\">\n",
       "  <thead>\n",
       "    <tr style=\"text-align: right;\">\n",
       "      <th></th>\n",
       "      <th>Datetime</th>\n",
       "      <th>Open</th>\n",
       "      <th>High</th>\n",
       "      <th>Low</th>\n",
       "      <th>Close</th>\n",
       "      <th>Volume</th>\n",
       "      <th>Dividends</th>\n",
       "      <th>Stock Splits</th>\n",
       "    </tr>\n",
       "  </thead>\n",
       "  <tbody>\n",
       "    <tr>\n",
       "      <th>0</th>\n",
       "      <td>2023-12-11 06:28:00-05:00</td>\n",
       "      <td>127.21</td>\n",
       "      <td>127.21</td>\n",
       "      <td>127.21</td>\n",
       "      <td>127.21</td>\n",
       "      <td>0</td>\n",
       "      <td>0.0</td>\n",
       "      <td>0.0</td>\n",
       "    </tr>\n",
       "    <tr>\n",
       "      <th>1</th>\n",
       "      <td>2023-12-11 06:42:00-05:00</td>\n",
       "      <td>127.21</td>\n",
       "      <td>127.21</td>\n",
       "      <td>127.21</td>\n",
       "      <td>127.21</td>\n",
       "      <td>0</td>\n",
       "      <td>0.0</td>\n",
       "      <td>0.0</td>\n",
       "    </tr>\n",
       "    <tr>\n",
       "      <th>2</th>\n",
       "      <td>2023-12-11 07:00:00-05:00</td>\n",
       "      <td>127.20</td>\n",
       "      <td>127.20</td>\n",
       "      <td>125.50</td>\n",
       "      <td>127.00</td>\n",
       "      <td>0</td>\n",
       "      <td>0.0</td>\n",
       "      <td>0.0</td>\n",
       "    </tr>\n",
       "    <tr>\n",
       "      <th>3</th>\n",
       "      <td>2023-12-11 07:15:00-05:00</td>\n",
       "      <td>127.00</td>\n",
       "      <td>127.00</td>\n",
       "      <td>127.00</td>\n",
       "      <td>127.00</td>\n",
       "      <td>0</td>\n",
       "      <td>0.0</td>\n",
       "      <td>0.0</td>\n",
       "    </tr>\n",
       "    <tr>\n",
       "      <th>4</th>\n",
       "      <td>2023-12-11 07:35:00-05:00</td>\n",
       "      <td>127.00</td>\n",
       "      <td>127.00</td>\n",
       "      <td>127.00</td>\n",
       "      <td>127.00</td>\n",
       "      <td>0</td>\n",
       "      <td>0.0</td>\n",
       "      <td>0.0</td>\n",
       "    </tr>\n",
       "    <tr>\n",
       "      <th>...</th>\n",
       "      <td>...</td>\n",
       "      <td>...</td>\n",
       "      <td>...</td>\n",
       "      <td>...</td>\n",
       "      <td>...</td>\n",
       "      <td>...</td>\n",
       "      <td>...</td>\n",
       "      <td>...</td>\n",
       "    </tr>\n",
       "    <tr>\n",
       "      <th>406</th>\n",
       "      <td>2023-12-11 16:37:00-05:00</td>\n",
       "      <td>128.97</td>\n",
       "      <td>128.97</td>\n",
       "      <td>128.97</td>\n",
       "      <td>128.97</td>\n",
       "      <td>0</td>\n",
       "      <td>0.0</td>\n",
       "      <td>0.0</td>\n",
       "    </tr>\n",
       "    <tr>\n",
       "      <th>407</th>\n",
       "      <td>2023-12-11 16:52:00-05:00</td>\n",
       "      <td>128.97</td>\n",
       "      <td>128.97</td>\n",
       "      <td>128.97</td>\n",
       "      <td>128.97</td>\n",
       "      <td>0</td>\n",
       "      <td>0.0</td>\n",
       "      <td>0.0</td>\n",
       "    </tr>\n",
       "    <tr>\n",
       "      <th>408</th>\n",
       "      <td>2023-12-11 17:07:00-05:00</td>\n",
       "      <td>128.97</td>\n",
       "      <td>128.97</td>\n",
       "      <td>128.97</td>\n",
       "      <td>128.97</td>\n",
       "      <td>0</td>\n",
       "      <td>0.0</td>\n",
       "      <td>0.0</td>\n",
       "    </tr>\n",
       "    <tr>\n",
       "      <th>409</th>\n",
       "      <td>2023-12-11 17:16:00-05:00</td>\n",
       "      <td>128.97</td>\n",
       "      <td>128.97</td>\n",
       "      <td>128.97</td>\n",
       "      <td>128.97</td>\n",
       "      <td>0</td>\n",
       "      <td>0.0</td>\n",
       "      <td>0.0</td>\n",
       "    </tr>\n",
       "    <tr>\n",
       "      <th>410</th>\n",
       "      <td>2023-12-11 17:42:00-05:00</td>\n",
       "      <td>128.97</td>\n",
       "      <td>128.97</td>\n",
       "      <td>128.97</td>\n",
       "      <td>128.97</td>\n",
       "      <td>0</td>\n",
       "      <td>0.0</td>\n",
       "      <td>0.0</td>\n",
       "    </tr>\n",
       "  </tbody>\n",
       "</table>\n",
       "<p>411 rows × 8 columns</p>\n",
       "</div>"
      ],
      "text/plain": [
       "                     Datetime    Open    High     Low   Close  Volume  \\\n",
       "0   2023-12-11 06:28:00-05:00  127.21  127.21  127.21  127.21       0   \n",
       "1   2023-12-11 06:42:00-05:00  127.21  127.21  127.21  127.21       0   \n",
       "2   2023-12-11 07:00:00-05:00  127.20  127.20  125.50  127.00       0   \n",
       "3   2023-12-11 07:15:00-05:00  127.00  127.00  127.00  127.00       0   \n",
       "4   2023-12-11 07:35:00-05:00  127.00  127.00  127.00  127.00       0   \n",
       "..                        ...     ...     ...     ...     ...     ...   \n",
       "406 2023-12-11 16:37:00-05:00  128.97  128.97  128.97  128.97       0   \n",
       "407 2023-12-11 16:52:00-05:00  128.97  128.97  128.97  128.97       0   \n",
       "408 2023-12-11 17:07:00-05:00  128.97  128.97  128.97  128.97       0   \n",
       "409 2023-12-11 17:16:00-05:00  128.97  128.97  128.97  128.97       0   \n",
       "410 2023-12-11 17:42:00-05:00  128.97  128.97  128.97  128.97       0   \n",
       "\n",
       "     Dividends  Stock Splits  \n",
       "0          0.0           0.0  \n",
       "1          0.0           0.0  \n",
       "2          0.0           0.0  \n",
       "3          0.0           0.0  \n",
       "4          0.0           0.0  \n",
       "..         ...           ...  \n",
       "406        0.0           0.0  \n",
       "407        0.0           0.0  \n",
       "408        0.0           0.0  \n",
       "409        0.0           0.0  \n",
       "410        0.0           0.0  \n",
       "\n",
       "[411 rows x 8 columns]"
      ]
     },
     "execution_count": 24,
     "metadata": {},
     "output_type": "execute_result"
    }
   ],
   "source": [
    "df"
   ]
  },
  {
   "cell_type": "code",
   "execution_count": null,
   "metadata": {},
   "outputs": [],
   "source": []
  }
 ],
 "metadata": {
  "kernelspec": {
   "display_name": "q_data",
   "language": "python",
   "name": "python3"
  },
  "language_info": {
   "codemirror_mode": {
    "name": "ipython",
    "version": 3
   },
   "file_extension": ".py",
   "mimetype": "text/x-python",
   "name": "python",
   "nbconvert_exporter": "python",
   "pygments_lexer": "ipython3",
   "version": "3.11.6"
  }
 },
 "nbformat": 4,
 "nbformat_minor": 2
}
