{
 "cells": [
  {
   "cell_type": "code",
   "execution_count": null,
   "id": "75abb81e-4777-4d3c-9fce-27c80e5c0469",
   "metadata": {
    "scrolled": true
   },
   "outputs": [],
   "source": [
    "import requests\n",
    "\n",
    "# replace the \"demo\" apikey below with your own key from https://www.alphavantage.co/support/#api-key\n",
    "url = 'https://www.alphavantage.co/query?function=TIME_SERIES_INTRADAY&symbol=MSFT&interval=5min&apikey=XX5ESBW86BXRZI0E'\n",
    "r = requests.get(url)\n",
    "data = r.json()\n",
    "\n",
    "print(data)"
   ]
  },
  {
   "cell_type": "code",
   "execution_count": null,
   "id": "4e082b17-315d-43d8-984f-bad502d433da",
   "metadata": {},
   "outputs": [],
   "source": [
    "import pandas as pd"
   ]
  },
  {
   "cell_type": "code",
   "execution_count": null,
   "id": "8dd91928-726c-401d-af74-413d97debed1",
   "metadata": {},
   "outputs": [],
   "source": [
    "df = pd.DataFrame(data['Time Series (5min)']).transpose()"
   ]
  },
  {
   "cell_type": "code",
   "execution_count": null,
   "id": "634112a1-e6d9-4975-9214-0966a88e4db0",
   "metadata": {
    "scrolled": true
   },
   "outputs": [],
   "source": [
    "\n",
    "# replace the \"demo\" apikey below with your own key from https://www.alphavantage.co/support/#api-key\n",
    "url = 'https://www.alphavantage.co/query?function=TIME_SERIES_INTRADAY&month=2023-11&outputsize=full&symbol=MSFT&interval=5min&apikey=XX5ESBW86BXRZI0E'\n",
    "r = requests.get(url)\n",
    "data = r.json()\n",
    "\n",
    "print(data)"
   ]
  },
  {
   "cell_type": "code",
   "execution_count": null,
   "id": "72afebe7-28e0-4717-a487-2b330af5e979",
   "metadata": {},
   "outputs": [],
   "source": [
    "df11 = pd.DataFrame(data['Time Series (5min)']).transpose()"
   ]
  },
  {
   "cell_type": "code",
   "execution_count": null,
   "id": "a8b289a3-c985-49d4-8a0d-1a242c2bc644",
   "metadata": {},
   "outputs": [],
   "source": [
    "df11"
   ]
  },
  {
   "cell_type": "code",
   "execution_count": null,
   "id": "f5ada5a8-ff1f-4852-9ac1-bcec494c8b22",
   "metadata": {},
   "outputs": [],
   "source": [
    "df.sort_index(inplace=True, ascending=True)"
   ]
  },
  {
   "cell_type": "code",
   "execution_count": null,
   "id": "1bc927bb-ce65-43d8-a646-ebb0c98e53b8",
   "metadata": {},
   "outputs": [],
   "source": [
    "df11[:200]"
   ]
  },
  {
   "cell_type": "code",
   "execution_count": null,
   "id": "9e554f3d-ba31-4e18-89af-a271d6c16f2e",
   "metadata": {},
   "outputs": [],
   "source": [
    "import requests\n",
    "\n",
    "# replace the \"demo\" apikey below with your own key from https://www.alphavantage.co/support/#api-key\n",
    "url = 'https://www.alphavantage.co/query?function=TIME_SERIES_DAILY&symbol=MSFT&apikey=XX5ESBW86BXRZI0E'\n",
    "r = requests.get(url)\n",
    "data = r.json()\n",
    "\n",
    "print(data)"
   ]
  },
  {
   "cell_type": "code",
   "execution_count": null,
   "id": "76330df1-7952-43b1-bac3-179b9fae2800",
   "metadata": {},
   "outputs": [],
   "source": [
    "df = pd.DataFrame(data['Time Series (Daily)']).transpose()"
   ]
  },
  {
   "cell_type": "code",
   "execution_count": null,
   "id": "e99d9056-8ce5-41c2-9ef6-fc66c66d7b0d",
   "metadata": {},
   "outputs": [],
   "source": [
    "df"
   ]
  },
  {
   "cell_type": "code",
   "execution_count": null,
   "id": "56fa0448-f8f1-4ed1-aee5-b1bca9090560",
   "metadata": {},
   "outputs": [],
   "source": [
    "sns.lineplot(data=df,x=df.index,\n",
    "             y='4. close')"
   ]
  },
  {
   "cell_type": "code",
   "execution_count": null,
   "id": "31f08845-92c1-4eda-b3ea-c2106ca1dd81",
   "metadata": {},
   "outputs": [],
   "source": [
    "list(df['4. close'])"
   ]
  },
  {
   "cell_type": "code",
   "execution_count": null,
   "id": "841062c8-3c7a-41e3-8b5f-768e3ec3654c",
   "metadata": {},
   "outputs": [],
   "source": [
    "fig, ax = plt.subplots()\n",
    "fig.set_size_inches(12, 8)\n",
    "sns.lineplot(data=df11[200:2000],x=df11.index[200:2000],\n",
    "             y='4. close')"
   ]
  },
  {
   "cell_type": "code",
   "execution_count": null,
   "id": "1080e2fb-d898-4b73-a9f7-b478c5be222a",
   "metadata": {},
   "outputs": [],
   "source": [
    "import matplotlib.pyplot as plt\n",
    "import seaborn as sns"
   ]
  },
  {
   "cell_type": "code",
   "execution_count": null,
   "id": "c3c7dcab-6aa1-4294-9bc5-56e3c1f0a666",
   "metadata": {},
   "outputs": [],
   "source": [
    "df11[:100]"
   ]
  },
  {
   "cell_type": "code",
   "execution_count": null,
   "id": "638fcf1c-22f2-4d25-a706-48196c129bdf",
   "metadata": {},
   "outputs": [],
   "source": [
    "df11.index "
   ]
  },
  {
   "cell_type": "code",
   "execution_count": null,
   "id": "39bcc1bd-a271-4e4c-80ce-34574da8385d",
   "metadata": {},
   "outputs": [],
   "source": [
    "import akshare as ak\n",
    "\n",
    "stock_us_daily_df = ak.stock_us_daily(symbol=\"MSFT\", adjust=\"qfq\")\n",
    "print(stock_us_daily_df)"
   ]
  },
  {
   "cell_type": "code",
   "execution_count": null,
   "id": "fa14870a-8b11-45b8-b431-5c94fd2b3dba",
   "metadata": {},
   "outputs": [],
   "source": [
    "stock_us_daily_df[-100:]"
   ]
  },
  {
   "cell_type": "code",
   "execution_count": null,
   "id": "80d0fcc7-e529-4167-89e6-8c84c2363fe5",
   "metadata": {},
   "outputs": [],
   "source": [
    "import akshare as ak\n",
    "\n",
    "stock_us_famous_spot_em_df = ak.stock_us_famous_spot_em(symbol='科技类')\n",
    "print(stock_us_famous_spot_em_df)"
   ]
  },
  {
   "cell_type": "code",
   "execution_count": null,
   "id": "ceb42774-f880-46cb-a68b-adcb34053226",
   "metadata": {},
   "outputs": [],
   "source": [
    "import akshare as ak\n",
    "\n",
    "us_stock_current_df = ak.stock_us_spot()\n",
    "print(us_stock_current_df)"
   ]
  },
  {
   "cell_type": "code",
   "execution_count": null,
   "id": "73bda017-e8f1-4fe1-8282-1cc38dd97a52",
   "metadata": {},
   "outputs": [],
   "source": [
    "import pandas as pd"
   ]
  },
  {
   "cell_type": "code",
   "execution_count": null,
   "metadata": {},
   "outputs": [],
   "source": [
    "df = pd.read_csv('../2023-11-21-America-sotck-list.csv', header=0, index_col=0)"
   ]
  },
  {
   "cell_type": "code",
   "execution_count": null,
   "metadata": {},
   "outputs": [],
   "source": [
    "df.sche"
   ]
  },
  {
   "cell_type": "code",
   "execution_count": null,
   "metadata": {},
   "outputs": [],
   "source": []
  },
  {
   "cell_type": "code",
   "execution_count": null,
   "metadata": {},
   "outputs": [],
   "source": [
    "df.ipoDate"
   ]
  },
  {
   "cell_type": "code",
   "execution_count": null,
   "metadata": {},
   "outputs": [],
   "source": [
    "df.columns"
   ]
  },
  {
   "cell_type": "code",
   "execution_count": null,
   "metadata": {},
   "outputs": [],
   "source": [
    "df.delistingDatedf"
   ]
  },
  {
   "cell_type": "code",
   "execution_count": null,
   "metadata": {},
   "outputs": [],
   "source": [
    "df.ipoDate = pd.to_datetime(df.ipoDate)\n",
    "df.delistingDate = pd.to_datetime(df.delistingDate)"
   ]
  },
  {
   "cell_type": "code",
   "execution_count": null,
   "metadata": {},
   "outputs": [],
   "source": [
    "print(pd.io.sql.get_schema(df, name='stock_meta_data'))"
   ]
  },
  {
   "cell_type": "code",
   "execution_count": null,
   "metadata": {},
   "outputs": [],
   "source": [
    "df['country'] = 'US'"
   ]
  },
  {
   "cell_type": "code",
   "execution_count": null,
   "metadata": {},
   "outputs": [],
   "source": [
    "create_db = pd.io.sql.get_schema(df, name='stock_meta_data')\n",
    "print()"
   ]
  },
  {
   "cell_type": "code",
   "execution_count": null,
   "metadata": {},
   "outputs": [],
   "source": []
  },
  {
   "cell_type": "code",
   "execution_count": null,
   "metadata": {},
   "outputs": [],
   "source": [
    "insp = db.inspect(db_engine)"
   ]
  },
  {
   "cell_type": "code",
   "execution_count": null,
   "metadata": {},
   "outputs": [],
   "source": [
    "table_name=\"american_stock_list\""
   ]
  },
  {
   "cell_type": "code",
   "execution_count": null,
   "metadata": {},
   "outputs": [],
   "source": [
    "insp.has_table(table_name)"
   ]
  },
  {
   "cell_type": "code",
   "execution_count": null,
   "metadata": {},
   "outputs": [],
   "source": []
  },
  {
   "cell_type": "code",
   "execution_count": null,
   "metadata": {},
   "outputs": [],
   "source": [
    "db_engine.execute(db.text(create_db))"
   ]
  },
  {
   "cell_type": "code",
   "execution_count": null,
   "metadata": {},
   "outputs": [],
   "source": [
    "with db_engine.connect() as c:\n",
    "    result = c.execute(db.text(create_db))\n",
    "    for row in result:\n",
    "        print(rwo)"
   ]
  },
  {
   "cell_type": "code",
   "execution_count": null,
   "metadata": {},
   "outputs": [],
   "source": [
    "db.__version__"
   ]
  },
  {
   "cell_type": "code",
   "execution_count": null,
   "metadata": {},
   "outputs": [],
   "source": [
    "from prefect.filesystems import RemoteFileSystem\n",
    "import pandas as pd\n",
    "import io\n",
    "import sqlalchemy as db\n",
    "import datetime"
   ]
  },
  {
   "cell_type": "code",
   "execution_count": null,
   "metadata": {},
   "outputs": [],
   "source": [
    "fs = await RemoteFileSystem.load(\"stock-meta\")"
   ]
  },
  {
   "cell_type": "code",
   "execution_count": null,
   "metadata": {},
   "outputs": [],
   "source": [
    "x = await fs.read_path('2023-11-26-America-sotck-list.csv')"
   ]
  },
  {
   "cell_type": "code",
   "execution_count": null,
   "metadata": {},
   "outputs": [],
   "source": []
  },
  {
   "cell_type": "code",
   "execution_count": null,
   "metadata": {},
   "outputs": [],
   "source": [
    "df['country'] = 'US'\n",
    "df['last_update'] = datetime.datetime.now()"
   ]
  },
  {
   "cell_type": "code",
   "execution_count": null,
   "metadata": {},
   "outputs": [],
   "source": []
  },
  {
   "cell_type": "code",
   "execution_count": null,
   "metadata": {},
   "outputs": [],
   "source": [
    "df['delistingDate'].where(df['delistingDate'].notnull(), None)"
   ]
  },
  {
   "cell_type": "code",
   "execution_count": null,
   "metadata": {},
   "outputs": [],
   "source": [
    "df['delistingDate'].where(df['delistingDate'].notnull(), None)"
   ]
  },
  {
   "cell_type": "code",
   "execution_count": null,
   "metadata": {},
   "outputs": [],
   "source": [
    "df['delistingDate'].notnull()"
   ]
  },
  {
   "cell_type": "code",
   "execution_count": null,
   "metadata": {},
   "outputs": [],
   "source": [
    "df.head()"
   ]
  },
  {
   "cell_type": "code",
   "execution_count": null,
   "metadata": {},
   "outputs": [],
   "source": [
    "df = pd.read_csv(io.BytesIO(x), index_col=0, header=0)"
   ]
  },
  {
   "cell_type": "code",
   "execution_count": null,
   "metadata": {},
   "outputs": [],
   "source": []
  },
  {
   "cell_type": "code",
   "execution_count": null,
   "metadata": {},
   "outputs": [],
   "source": [
    "df.ipoDate = pd.to_datetime(df.ipoDate)\n",
    "df.delistingDate = pd.to_datetime(df.delistingDate)\n",
    "print(pd.io.sql.get_schema(df, name='stock_meta'))"
   ]
  },
  {
   "cell_type": "code",
   "execution_count": null,
   "metadata": {},
   "outputs": [],
   "source": [
    "# create postgres db engine\n",
    "user = \"root\"\n",
    "password = \"root\"\n",
    "host = \"localhost\"\n",
    "database = \"q_data\"\n",
    "connect_str = f\"postgresql://{user}:{password}@{host}:5432/{database}\"\n",
    "print(connect_str)\n",
    "# db_engine = db.create_engine()\n"
   ]
  },
  {
   "cell_type": "code",
   "execution_count": null,
   "metadata": {},
   "outputs": [],
   "source": [
    "with db_engine.connect() as conn:\n",
    "    conn.execute(db.text(\"\"\"\n",
    "        CREATE TABLE IF NOT EXISTS stock_meta (\n",
    "            symbol TEXT PRIMARY KEY,\n",
    "            name TEXT,\n",
    "            exchange TEXT,\n",
    "            assetType TEXT,\n",
    "            ipoDate TIMESTAMP,\n",
    "            delistingDate TIMESTAMP,\n",
    "            status TEXT,\n",
    "            country TEXT,\n",
    "            last_update TIMESTAMP)\n",
    "    \"\"\"))\n",
    "    conn.commit()\n",
    "\n",
    "with db_engine.connect() as conn: \n",
    "    for index, item in df.fillna('NULL').iterrows(): \n",
    "        delistingDate = f\"'{item.delistingDate}'\" if item.delistingDate != 'NULL' else 'NULL'\n",
    "        insert_stmt = db.text(f\"\"\"\n",
    "            INSERT INTO stock_meta (\n",
    "                symbol,\n",
    "                name, \n",
    "                exchange, \n",
    "                assetType,\n",
    "                ipoDate,\n",
    "                delistingDate,\n",
    "                status,\n",
    "                country,\n",
    "                last_update\n",
    "            ) VALUES (\n",
    "                '{item.symbol}',\n",
    "                '{item['name'].replace(\"'\", \"''\")}',\n",
    "                '{item.exchange}',\n",
    "                '{item.assetType}',\n",
    "                '{item.ipoDate}',\n",
    "                {delistingDate},\n",
    "                '{item.status}',\n",
    "                '{item.country}',\n",
    "                '{item.last_update}'\n",
    "            )\n",
    "            ON CONFLICT (symbol) DO UPDATE\n",
    "            SET\n",
    "                delistingdate = EXCLUDED.delistingDate,\n",
    "                status = EXCLUDED.status,\n",
    "                last_update = EXCLUDED.last_update\n",
    "            WHERE\n",
    "                stock_meta.delistingdate <> EXCLUDED.delistingDate OR\n",
    "                stock_meta.delistingdate IS NULL;\n",
    "        \"\"\")\n",
    "        conn.execute(insert_stmt)\n",
    "    \n",
    "    conn.commit()\n",
    "\n",
    "\n",
    "\n",
    "    "
   ]
  },
  {
   "cell_type": "code",
   "execution_count": null,
   "metadata": {},
   "outputs": [],
   "source": [
    "def insert_one_row(connect, item):\n",
    "    delistingDate = f\"'{item.delistingDate}'\" if item.delistingDate != 'NULL' else 'NULL'\n",
    "    insert_stmt = db.text(f\"\"\"\n",
    "        INSERT INTO stock_meta (\n",
    "            symbol,\n",
    "            name, \n",
    "            exchange, \n",
    "            assetType,\n",
    "            ipoDate,\n",
    "            delistingDate,\n",
    "            status,\n",
    "            country,\n",
    "            last_update\n",
    "        ) VALUES (\n",
    "            '{item.symbol}',\n",
    "            '{item['name'].replace(\"'\", \"''\")}',\n",
    "            '{item.exchange}',\n",
    "            '{item.assetType}',\n",
    "            '{item.ipoDate}',\n",
    "            {delistingDate},\n",
    "            '{item.status}',\n",
    "            '{item.country}',\n",
    "            '{item.last_update}'\n",
    "        )\n",
    "        ON CONFLICT (symbol) DO UPDATE\n",
    "        SET\n",
    "            delistingdate = EXCLUDED.delistingDate,\n",
    "            status = EXCLUDED.status,\n",
    "            last_update = EXCLUDED.last_update\n",
    "        WHERE\n",
    "            stock_meta.delistingdate <> EXCLUDED.delistingDate OR\n",
    "            stock_meta.delistingdate IS NULL;\n",
    "    \"\"\")\n",
    "    print(str(insert_stmt))\n",
    "    connect.execute(insert_stmt)"
   ]
  },
  {
   "cell_type": "code",
   "execution_count": null,
   "metadata": {},
   "outputs": [],
   "source": [
    "x = df.iloc[0]\n",
    "x.delistingDate = datetime.datetime.now()"
   ]
  },
  {
   "cell_type": "code",
   "execution_count": null,
   "metadata": {},
   "outputs": [],
   "source": [
    "_, t = next(df.iterrows())"
   ]
  },
  {
   "cell_type": "code",
   "execution_count": null,
   "metadata": {},
   "outputs": [],
   "source": [
    "x.last_update = datetime.datetime.now()"
   ]
  },
  {
   "cell_type": "code",
   "execution_count": null,
   "metadata": {},
   "outputs": [],
   "source": [
    "with db_engine.connect() as conn: \n",
    "    insert_one_row(conn, x)\n",
    "    conn.commit()"
   ]
  },
  {
   "cell_type": "code",
   "execution_count": null,
   "metadata": {},
   "outputs": [],
   "source": [
    "t['name']"
   ]
  },
  {
   "cell_type": "code",
   "execution_count": null,
   "metadata": {},
   "outputs": [],
   "source": [
    "df.delistingDate.where(df.delistingDate.notnull(), 'NULL')"
   ]
  }
 ],
 "metadata": {
  "kernelspec": {
   "display_name": "Python 3 (ipykernel)",
   "language": "python",
   "name": "python3"
  },
  "language_info": {
   "codemirror_mode": {
    "name": "ipython",
    "version": 3
   },
   "file_extension": ".py",
   "mimetype": "text/x-python",
   "name": "python",
   "nbconvert_exporter": "python",
   "pygments_lexer": "ipython3",
   "version": "3.11.6"
  }
 },
 "nbformat": 4,
 "nbformat_minor": 5
}
